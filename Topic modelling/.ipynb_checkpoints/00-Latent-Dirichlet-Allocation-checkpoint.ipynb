{
 "cells": [
  {
   "cell_type": "markdown",
   "metadata": {
    "id": "pEg9jVEAJSVy"
   },
   "source": [
    "# Latent Dirichlet Allocation\n",
    "\n",
    "It is relatively easy for humans to learn a language. With years of practice subconsciously, we pick up nuances and stack up to the sophistication with the help of localised cultural cues. We have this complex mechanism where we meticulously derive deep meanings with the help of very few words.\n",
    "\n",
    "For machines, which operate on inferences of binary nature, human language is almost an impossible task.\n",
    "\n",
    "One way to do it is by predetermining the groups to which certain words belong to, segregating the useful words from stop words and appending a score to the relationship between two words in a sentence.\n",
    "\n",
    "Document: Probability distributions over latent topics\n",
    "Topic: Probability distributions over words.\n",
    "\n",
    "\n",
    "The word ‘topic’ refers to associating a certain word with a definition. For instance, when the machine reads-horse is black, it tokenizes the sentence and comes to the conclusion that there are two topics; horse which is an animal and black, a colour.\n",
    "\n",
    "https://analyticsindiamag.com/beginners-guide-to-latent-dirichlet-allocation/\n",
    "\n",
    "It is one of the most popular topic modeling methods. Each document is made up of various words, and each topic also has various words belonging to it. The aim of LDA is to find topics a document belongs to, based on the words in it.\n",
    "\n",
    "https://towardsdatascience.com/latent-dirichlet-allocation-lda-9d1cd064ffa2\n",
    "\n"
   ]
  },
  {
   "cell_type": "markdown",
   "metadata": {
    "id": "BYmrYdUnJSVz"
   },
   "source": [
    "## Data\n",
    "\n",
    "We will be using articles from NPR (National Public Radio), obtained from their website [www.npr.org](http://www.npr.org)"
   ]
  },
  {
   "cell_type": "code",
   "execution_count": 1,
   "metadata": {
    "colab": {
     "base_uri": "https://localhost:8080/"
    },
    "executionInfo": {
     "elapsed": 23959,
     "status": "ok",
     "timestamp": 1677992537321,
     "user": {
      "displayName": "megha datascience",
      "userId": "05467387020400370016"
     },
     "user_tz": -330
    },
    "id": "8JF6MH7PJV5I",
    "outputId": "991a9ee6-d110-4de5-b3e0-a089e8cf4a23"
   },
   "outputs": [
    {
     "name": "stdout",
     "output_type": "stream",
     "text": [
      "Mounted at /content/drive\n"
     ]
    }
   ],
   "source": [
    "from google.colab import drive\n",
    "drive.mount('/content/drive')"
   ]
  },
  {
   "cell_type": "code",
   "execution_count": 2,
   "metadata": {
    "executionInfo": {
     "elapsed": 705,
     "status": "ok",
     "timestamp": 1677992562963,
     "user": {
      "displayName": "megha datascience",
      "userId": "05467387020400370016"
     },
     "user_tz": -330
    },
    "id": "HLBa8FOJJSV0"
   },
   "outputs": [],
   "source": [
    "import pandas as pd"
   ]
  },
  {
   "cell_type": "code",
   "execution_count": 3,
   "metadata": {
    "executionInfo": {
     "elapsed": 989,
     "status": "ok",
     "timestamp": 1677992570296,
     "user": {
      "displayName": "megha datascience",
      "userId": "05467387020400370016"
     },
     "user_tz": -330
    },
    "id": "21AuzA8_JSV2"
   },
   "outputs": [],
   "source": [
    "npr = pd.read_csv('npr.csv')"
   ]
  },
  {
   "cell_type": "code",
   "execution_count": 4,
   "metadata": {
    "colab": {
     "base_uri": "https://localhost:8080/",
     "height": 204
    },
    "executionInfo": {
     "elapsed": 13,
     "status": "ok",
     "timestamp": 1677992570297,
     "user": {
      "displayName": "megha datascience",
      "userId": "05467387020400370016"
     },
     "user_tz": -330
    },
    "id": "qBIh-3QkJSV3",
    "outputId": "5d4bb274-9ba0-421d-da6d-bc774115ebe5"
   },
   "outputs": [
    {
     "data": {
      "text/html": [
       "<div>\n",
       "<style scoped>\n",
       "    .dataframe tbody tr th:only-of-type {\n",
       "        vertical-align: middle;\n",
       "    }\n",
       "\n",
       "    .dataframe tbody tr th {\n",
       "        vertical-align: top;\n",
       "    }\n",
       "\n",
       "    .dataframe thead th {\n",
       "        text-align: right;\n",
       "    }\n",
       "</style>\n",
       "<table border=\"1\" class=\"dataframe\">\n",
       "  <thead>\n",
       "    <tr style=\"text-align: right;\">\n",
       "      <th></th>\n",
       "      <th>Article</th>\n",
       "    </tr>\n",
       "  </thead>\n",
       "  <tbody>\n",
       "    <tr>\n",
       "      <th>0</th>\n",
       "      <td>In the Washington of 2016, even when the polic...</td>\n",
       "    </tr>\n",
       "    <tr>\n",
       "      <th>1</th>\n",
       "      <td>Donald Trump has used Twitter  —   his prefe...</td>\n",
       "    </tr>\n",
       "    <tr>\n",
       "      <th>2</th>\n",
       "      <td>Donald Trump is unabashedly praising Russian...</td>\n",
       "    </tr>\n",
       "    <tr>\n",
       "      <th>3</th>\n",
       "      <td>Updated at 2:50 p. m. ET, Russian President Vl...</td>\n",
       "    </tr>\n",
       "    <tr>\n",
       "      <th>4</th>\n",
       "      <td>From photography, illustration and video, to d...</td>\n",
       "    </tr>\n",
       "  </tbody>\n",
       "</table>\n",
       "</div>"
      ],
      "text/plain": [
       "                                             Article\n",
       "0  In the Washington of 2016, even when the polic...\n",
       "1    Donald Trump has used Twitter  —   his prefe...\n",
       "2    Donald Trump is unabashedly praising Russian...\n",
       "3  Updated at 2:50 p. m. ET, Russian President Vl...\n",
       "4  From photography, illustration and video, to d..."
      ]
     },
     "execution_count": 4,
     "metadata": {},
     "output_type": "execute_result"
    }
   ],
   "source": [
    "npr.head()"
   ]
  },
  {
   "cell_type": "markdown",
   "metadata": {
    "id": "j88GqGYHJSV4"
   },
   "source": [
    "Notice how we don't have the topic of the articles! Let's use LDA to attempt to figure out clusters of the articles."
   ]
  },
  {
   "cell_type": "markdown",
   "metadata": {
    "id": "gqzr__wIJSV5"
   },
   "source": [
    "## Preprocessing"
   ]
  },
  {
   "cell_type": "code",
   "execution_count": 5,
   "metadata": {
    "executionInfo": {
     "elapsed": 1474,
     "status": "ok",
     "timestamp": 1677992571764,
     "user": {
      "displayName": "megha datascience",
      "userId": "05467387020400370016"
     },
     "user_tz": -330
    },
    "id": "XOG22bnJJSV6"
   },
   "outputs": [],
   "source": [
    "from sklearn.feature_extraction.text import CountVectorizer"
   ]
  },
  {
   "cell_type": "markdown",
   "metadata": {
    "id": "KxIIJRqVJSV6"
   },
   "source": [
    "**`max_df`**` : float in range [0.0, 1.0] or int, default=1.0`<br>\n",
    "When building the vocabulary ignore terms that have a document frequency strictly higher than the given threshold (corpus-specific stop words). If float, the parameter represents a proportion of documents, integer absolute counts. This parameter is ignored if vocabulary is not None.\n",
    "\n",
    "**`min_df`**` : float in range [0.0, 1.0] or int, default=1`<br>\n",
    "When building the vocabulary ignore terms that have a document frequency strictly lower than the given threshold. This value is also called cut-off in the literature. If float, the parameter represents a proportion of documents, integer absolute counts. This parameter is ignored if vocabulary is not None."
   ]
  },
  {
   "cell_type": "code",
   "execution_count": 6,
   "metadata": {
    "executionInfo": {
     "elapsed": 9,
     "status": "ok",
     "timestamp": 1677992571765,
     "user": {
      "displayName": "megha datascience",
      "userId": "05467387020400370016"
     },
     "user_tz": -330
    },
    "id": "7pest3yXJSV7"
   },
   "outputs": [],
   "source": [
    "cv = CountVectorizer(max_df=0.95, min_df=2, stop_words='english')"
   ]
  },
  {
   "cell_type": "code",
   "execution_count": 7,
   "metadata": {
    "executionInfo": {
     "elapsed": 7462,
     "status": "ok",
     "timestamp": 1677992579219,
     "user": {
      "displayName": "megha datascience",
      "userId": "05467387020400370016"
     },
     "user_tz": -330
    },
    "id": "5Vs2rAVNJSV7"
   },
   "outputs": [],
   "source": [
    "dtm = cv.fit_transform(npr['Article'])"
   ]
  },
  {
   "cell_type": "code",
   "execution_count": 8,
   "metadata": {
    "colab": {
     "base_uri": "https://localhost:8080/"
    },
    "executionInfo": {
     "elapsed": 17,
     "status": "ok",
     "timestamp": 1677992579220,
     "user": {
      "displayName": "megha datascience",
      "userId": "05467387020400370016"
     },
     "user_tz": -330
    },
    "id": "SOiWdztUJSV8",
    "outputId": "2441a6fd-c39b-4747-da2c-6f767c65e860"
   },
   "outputs": [
    {
     "data": {
      "text/plain": [
       "<11992x54777 sparse matrix of type '<class 'numpy.int64'>'\n",
       "\twith 3033388 stored elements in Compressed Sparse Row format>"
      ]
     },
     "execution_count": 8,
     "metadata": {},
     "output_type": "execute_result"
    }
   ],
   "source": [
    "dtm"
   ]
  },
  {
   "cell_type": "markdown",
   "metadata": {
    "id": "JX8xiZxJJSV9"
   },
   "source": [
    "## LDA"
   ]
  },
  {
   "cell_type": "code",
   "execution_count": 9,
   "metadata": {
    "executionInfo": {
     "elapsed": 15,
     "status": "ok",
     "timestamp": 1677992579221,
     "user": {
      "displayName": "megha datascience",
      "userId": "05467387020400370016"
     },
     "user_tz": -330
    },
    "id": "2T08I24RJSV-"
   },
   "outputs": [],
   "source": [
    "from sklearn.decomposition import LatentDirichletAllocation"
   ]
  },
  {
   "cell_type": "code",
   "execution_count": 10,
   "metadata": {
    "executionInfo": {
     "elapsed": 14,
     "status": "ok",
     "timestamp": 1677992579222,
     "user": {
      "displayName": "megha datascience",
      "userId": "05467387020400370016"
     },
     "user_tz": -330
    },
    "id": "vJpzvj0oJSV_"
   },
   "outputs": [],
   "source": [
    "LDA = LatentDirichletAllocation(n_components=7,random_state=42)"
   ]
  },
  {
   "cell_type": "code",
   "execution_count": null,
   "metadata": {
    "colab": {
     "base_uri": "https://localhost:8080/",
     "height": 74
    },
    "executionInfo": {
     "elapsed": 134430,
     "status": "ok",
     "timestamp": 1677992713641,
     "user": {
      "displayName": "megha datascience",
      "userId": "05467387020400370016"
     },
     "user_tz": -330
    },
    "id": "rQDUlghXJSV_",
    "outputId": "7543bef0-05c0-47af-fef6-cd6955b8b597"
   },
   "outputs": [],
   "source": [
    "# This can take awhile, we're dealing with a large amount of documents!\n",
    "LDA.fit(dtm)"
   ]
  },
  {
   "cell_type": "markdown",
   "metadata": {
    "id": "BeYDXuRDJSWA"
   },
   "source": [
    "## Showing Stored Words"
   ]
  },
  {
   "cell_type": "code",
   "execution_count": null,
   "metadata": {
    "colab": {
     "base_uri": "https://localhost:8080/",
     "height": 164
    },
    "executionInfo": {
     "elapsed": 44,
     "status": "error",
     "timestamp": 1677992713642,
     "user": {
      "displayName": "megha datascience",
      "userId": "05467387020400370016"
     },
     "user_tz": -330
    },
    "id": "cHUkee_CJSWB",
    "outputId": "65977480-b485-432b-f695-31416c8c2e29"
   },
   "outputs": [],
   "source": [
    "len(cv.get_feature_names())"
   ]
  },
  {
   "cell_type": "code",
   "execution_count": null,
   "metadata": {
    "executionInfo": {
     "elapsed": 37,
     "status": "aborted",
     "timestamp": 1677992713644,
     "user": {
      "displayName": "megha datascience",
      "userId": "05467387020400370016"
     },
     "user_tz": -330
    },
    "id": "go0LBA-pJSWC"
   },
   "outputs": [],
   "source": [
    "import random"
   ]
  },
  {
   "cell_type": "code",
   "execution_count": null,
   "metadata": {
    "executionInfo": {
     "elapsed": 37,
     "status": "aborted",
     "timestamp": 1677992713645,
     "user": {
      "displayName": "megha datascience",
      "userId": "05467387020400370016"
     },
     "user_tz": -330
    },
    "id": "YGPFud0QJSWD"
   },
   "outputs": [],
   "source": [
    "for i in range(10):\n",
    "    random_word_id = random.randint(0,54776)\n",
    "    print(cv.get_feature_names()[random_word_id])"
   ]
  },
  {
   "cell_type": "code",
   "execution_count": null,
   "metadata": {
    "executionInfo": {
     "elapsed": 37,
     "status": "aborted",
     "timestamp": 1677992713646,
     "user": {
      "displayName": "megha datascience",
      "userId": "05467387020400370016"
     },
     "user_tz": -330
    },
    "id": "PAZl4RDsJSWE"
   },
   "outputs": [],
   "source": [
    "for i in range(10):\n",
    "    random_word_id = random.randint(0,54776)\n",
    "    print(cv.get_feature_names()[random_word_id])"
   ]
  },
  {
   "cell_type": "markdown",
   "metadata": {
    "collapsed": true,
    "id": "sAgzm07vJSWF"
   },
   "source": [
    "### Showing Top Words Per Topic"
   ]
  },
  {
   "cell_type": "code",
   "execution_count": null,
   "metadata": {
    "executionInfo": {
     "elapsed": 36,
     "status": "aborted",
     "timestamp": 1677992713647,
     "user": {
      "displayName": "megha datascience",
      "userId": "05467387020400370016"
     },
     "user_tz": -330
    },
    "id": "rq7eDpZhJSWG"
   },
   "outputs": [],
   "source": [
    "len(LDA.components_)"
   ]
  },
  {
   "cell_type": "code",
   "execution_count": null,
   "metadata": {
    "executionInfo": {
     "elapsed": 36,
     "status": "aborted",
     "timestamp": 1677992713648,
     "user": {
      "displayName": "megha datascience",
      "userId": "05467387020400370016"
     },
     "user_tz": -330
    },
    "id": "SekdGJ4fJSWH"
   },
   "outputs": [],
   "source": [
    "LDA.components_"
   ]
  },
  {
   "cell_type": "code",
   "execution_count": null,
   "metadata": {
    "executionInfo": {
     "elapsed": 37,
     "status": "aborted",
     "timestamp": 1677992713649,
     "user": {
      "displayName": "megha datascience",
      "userId": "05467387020400370016"
     },
     "user_tz": -330
    },
    "id": "qgwnZZroJSWI"
   },
   "outputs": [],
   "source": [
    "len(LDA.components_[0])"
   ]
  },
  {
   "cell_type": "code",
   "execution_count": null,
   "metadata": {
    "collapsed": true,
    "executionInfo": {
     "elapsed": 38,
     "status": "aborted",
     "timestamp": 1677992713651,
     "user": {
      "displayName": "megha datascience",
      "userId": "05467387020400370016"
     },
     "user_tz": -330
    },
    "id": "G0WZJW24JSWI"
   },
   "outputs": [],
   "source": [
    "single_topic = LDA.components_[0]"
   ]
  },
  {
   "cell_type": "code",
   "execution_count": null,
   "metadata": {
    "executionInfo": {
     "elapsed": 39,
     "status": "aborted",
     "timestamp": 1677992713652,
     "user": {
      "displayName": "megha datascience",
      "userId": "05467387020400370016"
     },
     "user_tz": -330
    },
    "id": "2g1Z5tUbJSWJ"
   },
   "outputs": [],
   "source": [
    "# Returns the indices that would sort this array.\n",
    "single_topic.argsort()"
   ]
  },
  {
   "cell_type": "code",
   "execution_count": null,
   "metadata": {
    "executionInfo": {
     "elapsed": 39,
     "status": "aborted",
     "timestamp": 1677992713653,
     "user": {
      "displayName": "megha datascience",
      "userId": "05467387020400370016"
     },
     "user_tz": -330
    },
    "id": "3zRPBLMXJSWK"
   },
   "outputs": [],
   "source": [
    "# Word least representative of this topic\n",
    "single_topic[18302]"
   ]
  },
  {
   "cell_type": "code",
   "execution_count": null,
   "metadata": {
    "executionInfo": {
     "elapsed": 41,
     "status": "aborted",
     "timestamp": 1677992713655,
     "user": {
      "displayName": "megha datascience",
      "userId": "05467387020400370016"
     },
     "user_tz": -330
    },
    "id": "Vv4oAz0PJSWK"
   },
   "outputs": [],
   "source": [
    "# Word most representative of this topic\n",
    "single_topic[42993]"
   ]
  },
  {
   "cell_type": "code",
   "execution_count": null,
   "metadata": {
    "executionInfo": {
     "elapsed": 39,
     "status": "aborted",
     "timestamp": 1677992713656,
     "user": {
      "displayName": "megha datascience",
      "userId": "05467387020400370016"
     },
     "user_tz": -330
    },
    "id": "6-EIS1OGJSWL"
   },
   "outputs": [],
   "source": [
    "# Top 10 words for this topic:\n",
    "single_topic.argsort()[-10:]"
   ]
  },
  {
   "cell_type": "code",
   "execution_count": null,
   "metadata": {
    "collapsed": true,
    "executionInfo": {
     "elapsed": 40,
     "status": "aborted",
     "timestamp": 1677992713657,
     "user": {
      "displayName": "megha datascience",
      "userId": "05467387020400370016"
     },
     "user_tz": -330
    },
    "id": "HWm_67HBJSWM"
   },
   "outputs": [],
   "source": [
    "top_word_indices = single_topic.argsort()[-10:]"
   ]
  },
  {
   "cell_type": "code",
   "execution_count": null,
   "metadata": {
    "executionInfo": {
     "elapsed": 41,
     "status": "aborted",
     "timestamp": 1677992713658,
     "user": {
      "displayName": "megha datascience",
      "userId": "05467387020400370016"
     },
     "user_tz": -330
    },
    "id": "G-XniYQcJSWO"
   },
   "outputs": [],
   "source": [
    "for index in top_word_indices:\n",
    "    print(cv.get_feature_names()[index])"
   ]
  },
  {
   "cell_type": "markdown",
   "metadata": {
    "id": "uGsBOXahJSWP"
   },
   "source": [
    "These look like business articles perhaps... Let's confirm by using .transform() on our vectorized articles to attach a label number. But first, let's view all the 10 topics found."
   ]
  },
  {
   "cell_type": "code",
   "execution_count": null,
   "metadata": {
    "executionInfo": {
     "elapsed": 41,
     "status": "aborted",
     "timestamp": 1677992713659,
     "user": {
      "displayName": "megha datascience",
      "userId": "05467387020400370016"
     },
     "user_tz": -330
    },
    "id": "Q7TbXF9cJSWR"
   },
   "outputs": [],
   "source": [
    "for index,topic in enumerate(LDA.components_):\n",
    "    print(f'THE TOP 15 WORDS FOR TOPIC #{index}')\n",
    "    print([cv.get_feature_names()[i] for i in topic.argsort()[-15:]])\n",
    "    print('\\n')"
   ]
  },
  {
   "cell_type": "markdown",
   "metadata": {
    "id": "ueVlW0xxJSWS"
   },
   "source": [
    "### Attaching Discovered Topic Labels to Original Articles"
   ]
  },
  {
   "cell_type": "code",
   "execution_count": null,
   "metadata": {
    "executionInfo": {
     "elapsed": 42,
     "status": "aborted",
     "timestamp": 1677992713660,
     "user": {
      "displayName": "megha datascience",
      "userId": "05467387020400370016"
     },
     "user_tz": -330
    },
    "id": "CQfmF8bZJSWT"
   },
   "outputs": [],
   "source": [
    "dtm"
   ]
  },
  {
   "cell_type": "code",
   "execution_count": null,
   "metadata": {
    "executionInfo": {
     "elapsed": 43,
     "status": "aborted",
     "timestamp": 1677992713661,
     "user": {
      "displayName": "megha datascience",
      "userId": "05467387020400370016"
     },
     "user_tz": -330
    },
    "id": "QAuehkAjJSWU"
   },
   "outputs": [],
   "source": [
    "dtm.shape"
   ]
  },
  {
   "cell_type": "code",
   "execution_count": null,
   "metadata": {
    "executionInfo": {
     "elapsed": 43,
     "status": "aborted",
     "timestamp": 1677992713662,
     "user": {
      "displayName": "megha datascience",
      "userId": "05467387020400370016"
     },
     "user_tz": -330
    },
    "id": "HC55UPTEJSWV"
   },
   "outputs": [],
   "source": [
    "len(npr)"
   ]
  },
  {
   "cell_type": "code",
   "execution_count": null,
   "metadata": {
    "collapsed": true,
    "executionInfo": {
     "elapsed": 44,
     "status": "aborted",
     "timestamp": 1677992713663,
     "user": {
      "displayName": "megha datascience",
      "userId": "05467387020400370016"
     },
     "user_tz": -330
    },
    "id": "8QBxLR3fJSWW"
   },
   "outputs": [],
   "source": [
    "topic_results = LDA.transform(dtm)"
   ]
  },
  {
   "cell_type": "code",
   "execution_count": null,
   "metadata": {
    "executionInfo": {
     "elapsed": 44,
     "status": "aborted",
     "timestamp": 1677992713664,
     "user": {
      "displayName": "megha datascience",
      "userId": "05467387020400370016"
     },
     "user_tz": -330
    },
    "id": "IBGGoBfEJSWX"
   },
   "outputs": [],
   "source": [
    "topic_results.shape"
   ]
  },
  {
   "cell_type": "code",
   "execution_count": null,
   "metadata": {
    "executionInfo": {
     "elapsed": 144823,
     "status": "aborted",
     "timestamp": 1677992713666,
     "user": {
      "displayName": "megha datascience",
      "userId": "05467387020400370016"
     },
     "user_tz": -330
    },
    "id": "dBnkU6brJSWY"
   },
   "outputs": [],
   "source": [
    "topic_results[0]"
   ]
  },
  {
   "cell_type": "code",
   "execution_count": null,
   "metadata": {
    "executionInfo": {
     "elapsed": 144815,
     "status": "aborted",
     "timestamp": 1677992713667,
     "user": {
      "displayName": "megha datascience",
      "userId": "05467387020400370016"
     },
     "user_tz": -330
    },
    "id": "dtPyxb6AJSWa"
   },
   "outputs": [],
   "source": [
    "topic_results[0].round(2)"
   ]
  },
  {
   "cell_type": "code",
   "execution_count": null,
   "metadata": {
    "executionInfo": {
     "elapsed": 144807,
     "status": "aborted",
     "timestamp": 1677992713668,
     "user": {
      "displayName": "megha datascience",
      "userId": "05467387020400370016"
     },
     "user_tz": -330
    },
    "id": "R5ZwuLNTJSWb"
   },
   "outputs": [],
   "source": [
    "topic_results[0].argmax()"
   ]
  },
  {
   "cell_type": "markdown",
   "metadata": {
    "id": "xqI0L3uQJSWc"
   },
   "source": [
    "This means that our model thinks that the first article belongs to topic #1."
   ]
  },
  {
   "cell_type": "markdown",
   "metadata": {
    "id": "E_YM-gmeJSWc"
   },
   "source": [
    "### Combining with Original Data"
   ]
  },
  {
   "cell_type": "code",
   "execution_count": null,
   "metadata": {
    "executionInfo": {
     "elapsed": 144798,
     "status": "aborted",
     "timestamp": 1677992713669,
     "user": {
      "displayName": "megha datascience",
      "userId": "05467387020400370016"
     },
     "user_tz": -330
    },
    "id": "oxGxlIs-JSWd"
   },
   "outputs": [],
   "source": [
    "npr.head()"
   ]
  },
  {
   "cell_type": "code",
   "execution_count": null,
   "metadata": {
    "executionInfo": {
     "elapsed": 144790,
     "status": "aborted",
     "timestamp": 1677992713670,
     "user": {
      "displayName": "megha datascience",
      "userId": "05467387020400370016"
     },
     "user_tz": -330
    },
    "id": "i9cOOugHJSWe"
   },
   "outputs": [],
   "source": [
    "topic_results.argmax(axis=1)"
   ]
  },
  {
   "cell_type": "code",
   "execution_count": null,
   "metadata": {
    "collapsed": true,
    "executionInfo": {
     "elapsed": 144789,
     "status": "aborted",
     "timestamp": 1677992713671,
     "user": {
      "displayName": "megha datascience",
      "userId": "05467387020400370016"
     },
     "user_tz": -330
    },
    "id": "ZlyH1h3YJSWf"
   },
   "outputs": [],
   "source": [
    "npr['Topic'] = topic_results.argmax(axis=1)"
   ]
  },
  {
   "cell_type": "code",
   "execution_count": null,
   "metadata": {
    "executionInfo": {
     "elapsed": 144781,
     "status": "aborted",
     "timestamp": 1677992713672,
     "user": {
      "displayName": "megha datascience",
      "userId": "05467387020400370016"
     },
     "user_tz": -330
    },
    "id": "rf6Tj3WXJSWg"
   },
   "outputs": [],
   "source": [
    "npr.head(10)"
   ]
  }
 ],
 "metadata": {
  "colab": {
   "provenance": []
  },
  "kernelspec": {
   "display_name": "Python 3 (ipykernel)",
   "language": "python",
   "name": "python3"
  },
  "language_info": {
   "codemirror_mode": {
    "name": "ipython",
    "version": 3
   },
   "file_extension": ".py",
   "mimetype": "text/x-python",
   "name": "python",
   "nbconvert_exporter": "python",
   "pygments_lexer": "ipython3",
   "version": "3.9.7"
  }
 },
 "nbformat": 4,
 "nbformat_minor": 1
}
